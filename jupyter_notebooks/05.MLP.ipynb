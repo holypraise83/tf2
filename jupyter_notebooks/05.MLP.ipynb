{
 "cells": [
  {
   "cell_type": "markdown",
   "metadata": {},
   "source": [
    "<a href=\"https://colab.research.google.com/github/minsuk-heo/tf2/blob/master/jupyter_notebooks/05.MLP.ipynb\" target=\"_parent\"><img src=\"https://colab.research.google.com/assets/colab-badge.svg\" alt=\"Open In Colab\"/></a>"
   ]
  },
  {
   "cell_type": "code",
   "execution_count": 1,
   "metadata": {},
   "outputs": [],
   "source": [
    "import numpy as np"
   ]
  },
  {
   "cell_type": "code",
   "execution_count": 2,
   "metadata": {},
   "outputs": [
    {
     "name": "stdout",
     "output_type": "stream",
     "text": [
      "[0.00237792 0.95932017 0.00646385 0.00237792 0.00237792 0.00237792\n",
      " 0.00237792 0.01757056 0.00237792 0.00237792]\n"
     ]
    }
   ],
   "source": [
    "# softmax practice\n",
    "def softmax(x):\n",
    "    return np.exp(x) / np.sum(np.exp(x), axis=0)\n",
    "scores = [1, 7, 2, 1, 1, 1, 1, 3, 1, 1]\n",
    "print(softmax(scores))"
   ]
  },
  {
   "cell_type": "code",
   "execution_count": 3,
   "metadata": {},
   "outputs": [],
   "source": [
    "from __future__ import absolute_import, division, print_function, unicode_literals\n",
    "\n",
    "try:\n",
    "  %tensorflow_version 2.x\n",
    "except Exception:\n",
    "  pass\n",
    "\n",
    "import tensorflow as tf\n",
    "tf.random.set_seed(1)"
   ]
  },
  {
   "cell_type": "code",
   "execution_count": 4,
   "metadata": {},
   "outputs": [],
   "source": [
    "import tensorflow as tf\n",
    "from tensorflow.keras.models import Sequential\n",
    "from tensorflow.keras.layers import Flatten\n",
    "from tensorflow.keras.layers import Dense\n",
    "from tensorflow.keras.layers import Activation"
   ]
  },
  {
   "cell_type": "markdown",
   "metadata": {},
   "source": [
    "# Get MNIST Data"
   ]
  },
  {
   "cell_type": "code",
   "execution_count": 5,
   "metadata": {},
   "outputs": [],
   "source": [
    "(x_train, y_train), (x_test, y_test) = tf.keras.datasets.mnist.load_data()\n",
    "x_train = x_train.astype('float32')\n",
    "x_test = x_test.astype('float32')\n",
    "\n",
    "gray_scale = 255\n",
    "x_train /= gray_scale\n",
    "x_test /= gray_scale"
   ]
  },
  {
   "cell_type": "markdown",
   "metadata": {},
   "source": [
    "# MLP Model for classifiation"
   ]
  },
  {
   "cell_type": "code",
   "execution_count": 6,
   "metadata": {},
   "outputs": [],
   "source": [
    "model = Sequential([\n",
    "    Flatten(input_shape=(28, 28)),    # reshape 28 row * 28 column data to 28*28 rows\n",
    "    Dense(256, activation='sigmoid'), # dense layer 1\n",
    "    Dense(128, activation='sigmoid'), # dense layer 2\n",
    "    Dense(10, activation='softmax'),  # dense layer 3\n",
    "])"
   ]
  },
  {
   "cell_type": "code",
   "execution_count": 7,
   "metadata": {},
   "outputs": [],
   "source": [
    "model.compile(optimizer='adam',\n",
    "              loss='sparse_categorical_crossentropy',\n",
    "              metrics=['accuracy'])"
   ]
  },
  {
   "cell_type": "markdown",
   "metadata": {},
   "source": [
    "# Train"
   ]
  },
  {
   "cell_type": "code",
   "execution_count": 8,
   "metadata": {},
   "outputs": [
    {
     "name": "stdout",
     "output_type": "stream",
     "text": [
      "Train on 48000 samples, validate on 12000 samples\n",
      "Epoch 1/10\n",
      "48000/48000 [==============================] - 2s 51us/sample - loss: 2.0617 - accuracy: 0.4402 - val_loss: 1.6865 - val_accuracy: 0.6804\n",
      "Epoch 2/10\n",
      "48000/48000 [==============================] - 1s 31us/sample - loss: 1.3470 - accuracy: 0.7280 - val_loss: 1.0002 - val_accuracy: 0.7937\n",
      "Epoch 3/10\n",
      "48000/48000 [==============================] - 2s 32us/sample - loss: 0.8363 - accuracy: 0.8206 - val_loss: 0.6487 - val_accuracy: 0.8652\n",
      "Epoch 4/10\n",
      "48000/48000 [==============================] - 1s 31us/sample - loss: 0.5850 - accuracy: 0.8691 - val_loss: 0.4795 - val_accuracy: 0.8905\n",
      "Epoch 5/10\n",
      "48000/48000 [==============================] - 2s 40us/sample - loss: 0.4584 - accuracy: 0.8881 - val_loss: 0.3934 - val_accuracy: 0.9032\n",
      "Epoch 6/10\n",
      "48000/48000 [==============================] - 2s 35us/sample - loss: 0.3905 - accuracy: 0.9000 - val_loss: 0.3458 - val_accuracy: 0.9096\n",
      "Epoch 7/10\n",
      "48000/48000 [==============================] - 2s 32us/sample - loss: 0.3488 - accuracy: 0.9063 - val_loss: 0.3135 - val_accuracy: 0.9174\n",
      "Epoch 8/10\n",
      "48000/48000 [==============================] - 2s 31us/sample - loss: 0.3188 - accuracy: 0.9134 - val_loss: 0.2902 - val_accuracy: 0.9205\n",
      "Epoch 9/10\n",
      "48000/48000 [==============================] - 2s 33us/sample - loss: 0.2961 - accuracy: 0.9181 - val_loss: 0.2722 - val_accuracy: 0.9258\n",
      "Epoch 10/10\n",
      "48000/48000 [==============================] - 1s 31us/sample - loss: 0.2781 - accuracy: 0.9225 - val_loss: 0.2584 - val_accuracy: 0.9287\n"
     ]
    },
    {
     "data": {
      "text/plain": [
       "<tensorflow.python.keras.callbacks.History at 0x648c64ed0>"
      ]
     },
     "execution_count": 8,
     "metadata": {},
     "output_type": "execute_result"
    }
   ],
   "source": [
    "model.fit(x_train, y_train, epochs=10, batch_size=2000, validation_split = 0.2)"
   ]
  },
  {
   "cell_type": "markdown",
   "metadata": {},
   "source": [
    "# Test"
   ]
  },
  {
   "cell_type": "code",
   "execution_count": 9,
   "metadata": {},
   "outputs": [],
   "source": [
    "results = model.evaluate(x_test,  y_test, verbose = 0)"
   ]
  },
  {
   "cell_type": "code",
   "execution_count": 10,
   "metadata": {},
   "outputs": [
    {
     "name": "stdout",
     "output_type": "stream",
     "text": [
      "test loss, test acc: [0.2640204683840275, 0.9258]\n"
     ]
    }
   ],
   "source": [
    "print('test loss, test acc:', results)"
   ]
  }
 ],
 "metadata": {
  "kernelspec": {
   "display_name": "Python 3",
   "language": "python",
   "name": "python3"
  },
  "language_info": {
   "codemirror_mode": {
    "name": "ipython",
    "version": 3
   },
   "file_extension": ".py",
   "mimetype": "text/x-python",
   "name": "python",
   "nbconvert_exporter": "python",
   "pygments_lexer": "ipython3",
   "version": "3.7.5"
  }
 },
 "nbformat": 4,
 "nbformat_minor": 2
}
