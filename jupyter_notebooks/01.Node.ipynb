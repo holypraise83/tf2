{
 "cells": [
  {
   "cell_type": "markdown",
   "metadata": {},
   "source": [
    "<a href=\"https://colab.research.google.com/github/minsuk-heo/tf2/blob/master/jupyter_notebooks/01.Node.ipynb\" target=\"_parent\"><img src=\"https://colab.research.google.com/assets/colab-badge.svg\" alt=\"Open In Colab\"/></a>"
   ]
  },
  {
   "cell_type": "markdown",
   "metadata": {},
   "source": [
    "# Node 만들기"
   ]
  },
  {
   "cell_type": "code",
   "execution_count": 1,
   "metadata": {},
   "outputs": [],
   "source": [
    "# For Colab to use Tensorflow 2.X\n",
    "from __future__ import absolute_import, division, print_function, unicode_literals\n",
    "\n",
    "try:\n",
    "  %tensorflow_version 2.x\n",
    "except Exception:\n",
    "  pass"
   ]
  },
  {
   "cell_type": "code",
   "execution_count": 2,
   "metadata": {},
   "outputs": [],
   "source": [
    "import tensorflow as tf"
   ]
  },
  {
   "cell_type": "code",
   "execution_count": 3,
   "metadata": {},
   "outputs": [
    {
     "data": {
      "text/plain": [
       "'2.7.0'"
      ]
     },
     "execution_count": 3,
     "metadata": {},
     "output_type": "execute_result"
    }
   ],
   "source": [
    "tf.__version__"
   ]
  },
  {
   "cell_type": "markdown",
   "metadata": {},
   "source": [
    "## 함수 없이 구현 하기"
   ]
  },
  {
   "cell_type": "code",
   "execution_count": 22,
   "metadata": {},
   "outputs": [],
   "source": [
    "# one feature node\n",
    "x = tf.constant([[1.0]])\n",
    "\n",
    "# weight, bias\n",
    "w = tf.Variable([[2.0]])\n",
    "b = tf.Variable([[1.0]])"
   ]
  },
  {
   "cell_type": "code",
   "execution_count": 25,
   "metadata": {},
   "outputs": [
    {
     "name": "stdout",
     "output_type": "stream",
     "text": [
      "[[3.]]\n"
     ]
    }
   ],
   "source": [
    "node = tf.add(tf.matmul(x,w), b)\n",
    "print(node.numpy())"
   ]
  },
  {
   "cell_type": "code",
   "execution_count": 26,
   "metadata": {},
   "outputs": [
    {
     "name": "stdout",
     "output_type": "stream",
     "text": [
      "[[0.95257413]]\n"
     ]
    }
   ],
   "source": [
    "#sigmoid\n",
    "out = tf.math.sigmoid(node)\n",
    "print(out.numpy())"
   ]
  },
  {
   "cell_type": "markdown",
   "metadata": {},
   "source": [
    "## two feature node"
   ]
  },
  {
   "cell_type": "code",
   "execution_count": 31,
   "metadata": {},
   "outputs": [
    {
     "name": "stdout",
     "output_type": "stream",
     "text": [
      "[[1.1]\n",
      " [2.2]]\n"
     ]
    }
   ],
   "source": [
    "w = tf.Variable([[1.1], [2.2]])\n",
    "b = tf.Variable([[-1.0]])\n",
    "print(w.numpy())"
   ]
  },
  {
   "cell_type": "code",
   "execution_count": 37,
   "metadata": {},
   "outputs": [
    {
     "name": "stdout",
     "output_type": "stream",
     "text": [
      "[[ 2. -1.]]\n",
      "(1, 2)\n"
     ]
    }
   ],
   "source": [
    "x = tf.constant([[2.0, -1.0]])\n",
    "# x = tf.constant([[2.0],[ -1.0]])\n",
    "print(x.numpy())\n",
    "print(x.shape)"
   ]
  },
  {
   "cell_type": "code",
   "execution_count": 38,
   "metadata": {},
   "outputs": [
    {
     "name": "stdout",
     "output_type": "stream",
     "text": [
      "[[0.26894143]]\n"
     ]
    }
   ],
   "source": [
    "node = tf.add(tf.matmul(x, w), b)\n",
    "out = tf.math.sigmoid(node)\n",
    "print(out.numpy())\n"
   ]
  },
  {
   "cell_type": "code",
   "execution_count": 41,
   "metadata": {},
   "outputs": [
    {
     "name": "stdout",
     "output_type": "stream",
     "text": [
      "(3, 2)\n"
     ]
    }
   ],
   "source": [
    "## multi input data\n",
    "x = tf.constant([[1.0, 2.0], [-1.0, 1.0], [2.0, 2.0]])\n",
    "print(x.shape)"
   ]
  },
  {
   "cell_type": "code",
   "execution_count": 42,
   "metadata": {},
   "outputs": [
    {
     "name": "stdout",
     "output_type": "stream",
     "text": [
      "[[0.9890131 ]\n",
      " [0.52497923]\n",
      " [0.9963158 ]]\n"
     ]
    }
   ],
   "source": [
    "node = tf.add(tf.matmul(x, w), b)\n",
    "out = tf.math.sigmoid(node)\n",
    "print(out.numpy())\n"
   ]
  },
  {
   "cell_type": "markdown",
   "metadata": {},
   "source": [
    "# One Feature Node"
   ]
  },
  {
   "cell_type": "code",
   "execution_count": 4,
   "metadata": {},
   "outputs": [],
   "source": [
    "class One_Feature_Node:\n",
    "    def __init__(self):\n",
    "        self.w = tf.Variable([[0.1]])\n",
    "        self.b = tf.Variable([[0.5]])\n",
    "        \n",
    "    def __call__(self, x):\n",
    "        return self.get_output(x)\n",
    "    \n",
    "    def get_output(self,x):\n",
    "        out = tf.matmul(x,self.w)\n",
    "        print(\"matmul result: \", out.numpy())\n",
    "        out = tf.add(out, self.b)\n",
    "        print(\"adding bias result: \", out.numpy())\n",
    "        out = tf.math.sigmoid(out)\n",
    "        print(\"sigmoid result:\", out.numpy())\n",
    "        return out"
   ]
  },
  {
   "cell_type": "code",
   "execution_count": 5,
   "metadata": {},
   "outputs": [
    {
     "name": "stderr",
     "output_type": "stream",
     "text": [
      "2022-02-14 20:47:25.917771: I tensorflow/core/common_runtime/pluggable_device/pluggable_device_factory.cc:305] Could not identify NUMA node of platform GPU ID 0, defaulting to 0. Your kernel may not have been built with NUMA support.\n",
      "2022-02-14 20:47:25.918013: I tensorflow/core/common_runtime/pluggable_device/pluggable_device_factory.cc:271] Created TensorFlow device (/job:localhost/replica:0/task:0/device:GPU:0 with 0 MB memory) -> physical PluggableDevice (device: 0, name: METAL, pci bus id: <undefined>)\n"
     ]
    },
    {
     "name": "stdout",
     "output_type": "stream",
     "text": [
      "Metal device set to: Apple M1\n",
      "\n",
      "systemMemory: 8.00 GB\n",
      "maxCacheSize: 2.67 GB\n",
      "\n",
      "matmul result:  [[0.1]]\n",
      "adding bias result:  [[0.6]]\n",
      "sigmoid result: [[0.6456563]]\n"
     ]
    },
    {
     "data": {
      "text/plain": [
       "<tf.Tensor: shape=(1, 1), dtype=float32, numpy=array([[0.6456563]], dtype=float32)>"
      ]
     },
     "execution_count": 5,
     "metadata": {},
     "output_type": "execute_result"
    }
   ],
   "source": [
    "# Single Input\n",
    "x = tf.constant([[1.0]])\n",
    "\n",
    "one_feature_node = One_Feature_Node()\n",
    "one_feature_node(x)"
   ]
  },
  {
   "cell_type": "markdown",
   "metadata": {},
   "source": [
    "# Two Features Node"
   ]
  },
  {
   "cell_type": "code",
   "execution_count": 6,
   "metadata": {},
   "outputs": [],
   "source": [
    "class Two_Features_Node:\n",
    "    def __init__(self):\n",
    "        self.w = tf.Variable([[0.1], [0.2]])\n",
    "        self.b = tf.Variable([[0.5]])\n",
    "        \n",
    "    def __call__(self, x):\n",
    "        return self.get_output(x)\n",
    "    \n",
    "    def get_output(self,x):\n",
    "        out = tf.matmul(x,self.w)\n",
    "        print(\"matmul result: \", out.numpy())\n",
    "        out = tf.add(out, self.b)\n",
    "        print(\"adding bias result: \", out.numpy())\n",
    "        out = tf.math.sigmoid(out)\n",
    "        print(\"sigmoid result:\", out.numpy())\n",
    "        return out"
   ]
  },
  {
   "cell_type": "code",
   "execution_count": 7,
   "metadata": {},
   "outputs": [
    {
     "name": "stdout",
     "output_type": "stream",
     "text": [
      "matmul result:  [[0.5]]\n",
      "adding bias result:  [[1.]]\n",
      "sigmoid result: [[0.7310586]]\n"
     ]
    },
    {
     "data": {
      "text/plain": [
       "<tf.Tensor: shape=(1, 1), dtype=float32, numpy=array([[0.7310586]], dtype=float32)>"
      ]
     },
     "execution_count": 7,
     "metadata": {},
     "output_type": "execute_result"
    }
   ],
   "source": [
    "# Multi Features Single Input (Two features for one data)\n",
    "x = tf.constant([[1.0,2.0]])\n",
    "\n",
    "two_features_node = Two_Features_Node()\n",
    "two_features_node(x)"
   ]
  },
  {
   "cell_type": "markdown",
   "metadata": {},
   "source": [
    "# N inputs for Two Features Node"
   ]
  },
  {
   "cell_type": "code",
   "execution_count": 8,
   "metadata": {},
   "outputs": [
    {
     "name": "stdout",
     "output_type": "stream",
     "text": [
      "matmul result:  [[0.5]\n",
      " [0.8]\n",
      " [1.4]]\n",
      "adding bias result:  [[1. ]\n",
      " [1.3]\n",
      " [1.9]]\n",
      "sigmoid result: [[0.7310586]\n",
      " [0.785835 ]\n",
      " [0.8698916]]\n"
     ]
    },
    {
     "data": {
      "text/plain": [
       "<tf.Tensor: shape=(3, 1), dtype=float32, numpy=\n",
       "array([[0.7310586],\n",
       "       [0.785835 ],\n",
       "       [0.8698916]], dtype=float32)>"
      ]
     },
     "execution_count": 8,
     "metadata": {},
     "output_type": "execute_result"
    }
   ],
   "source": [
    "# Multi Input Data (3 samples)\n",
    "x = tf.constant([[1.0,2.0],[2.0,3.0],[4.0,5.0]])\n",
    "\n",
    "two_features_node = Two_Features_Node()\n",
    "two_features_node(x)"
   ]
  },
  {
   "cell_type": "markdown",
   "metadata": {},
   "source": [
    "# tf.function speed check\n",
    "tf.function decoration put your python onto autograph.  \n",
    "This enables faster execution, running on GPU or TPU, or exporting to SavedModel."
   ]
  },
  {
   "cell_type": "code",
   "execution_count": 9,
   "metadata": {},
   "outputs": [],
   "source": [
    "import timeit"
   ]
  },
  {
   "cell_type": "code",
   "execution_count": 12,
   "metadata": {},
   "outputs": [],
   "source": [
    "class Two_Features_Node2:\n",
    "    def __init__(self):\n",
    "        self.w = tf.Variable([[0.1], [0.2]])\n",
    "        self.b = tf.Variable([[0.5]])\n",
    "        \n",
    "    def __call__(self, x):\n",
    "        return self.get_output(x)\n",
    "    \n",
    "    def get_output(self,x):\n",
    "        for i in range(50):\n",
    "            out = tf.matmul(x,self.w)\n",
    "            out = tf.add(out, self.b)\n",
    "            out = tf.math.sigmoid(out)\n",
    "        return out\n",
    "    \n",
    "    @tf.function\n",
    "    def get_output_faster(self,x):\n",
    "        for i in range(50):\n",
    "            out = tf.matmul(x,self.w)\n",
    "            out = tf.add(out, self.b)\n",
    "            out = tf.math.sigmoid(out)\n",
    "        return out"
   ]
  },
  {
   "cell_type": "code",
   "execution_count": 13,
   "metadata": {},
   "outputs": [
    {
     "name": "stderr",
     "output_type": "stream",
     "text": [
      "2022-02-14 20:49:34.241850: W tensorflow/core/platform/profile_utils/cpu_utils.cc:128] Failed to get CPU frequency: 0 Hz\n",
      "2022-02-14 20:49:34.242021: I tensorflow/core/grappler/optimizers/custom_graph_optimizer_registry.cc:112] Plugin optimizer for device_type GPU is enabled.\n"
     ]
    }
   ],
   "source": [
    "two_features_node2 = Two_Features_Node2()\n",
    "get_output_without_tf_function_timeit = timeit.timeit(lambda: two_features_node2.get_output(x), number=300)\n",
    "get_output_faster_with_tf_function_timeit = timeit.timeit(lambda: two_features_node2.get_output_faster(x), number=300)\n",
    "time_diff = round(get_output_without_tf_function_timeit / get_output_faster_with_tf_function_timeit, 1)"
   ]
  },
  {
   "cell_type": "code",
   "execution_count": 14,
   "metadata": {},
   "outputs": [
    {
     "name": "stdout",
     "output_type": "stream",
     "text": [
      "get_output_faster(@tf.function) is 11.0 times faster than get_output_without_tf_function!\n"
     ]
    }
   ],
   "source": [
    "print(\"get_output_faster(@tf.function) is \" + str(time_diff) + \" times faster than get_output_without_tf_function!\")"
   ]
  },
  {
   "cell_type": "code",
   "execution_count": null,
   "metadata": {},
   "outputs": [],
   "source": []
  }
 ],
 "metadata": {
  "interpreter": {
   "hash": "bbd31ae54849196b1addc0e6f50249d249ea1f8103765b48847e1b2f2c0dec8e"
  },
  "kernelspec": {
   "display_name": "Python 3.9.7 64-bit ('tf': conda)",
   "name": "python3"
  },
  "language_info": {
   "codemirror_mode": {
    "name": "ipython",
    "version": 3
   },
   "file_extension": ".py",
   "mimetype": "text/x-python",
   "name": "python",
   "nbconvert_exporter": "python",
   "pygments_lexer": "ipython3",
   "version": "3.9.7"
  }
 },
 "nbformat": 4,
 "nbformat_minor": 2
}