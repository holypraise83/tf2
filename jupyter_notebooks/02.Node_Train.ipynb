{
 "cells": [
  {
   "cell_type": "markdown",
   "metadata": {},
   "source": [
    "<a href=\"https://colab.research.google.com/github/minsuk-heo/tf2/blob/master/jupyter_notebooks/02.Node_Train.ipynb\" target=\"_parent\"><img src=\"https://colab.research.google.com/assets/colab-badge.svg\" alt=\"Open In Colab\"/></a>"
   ]
  },
  {
   "cell_type": "markdown",
   "metadata": {},
   "source": [
    "# Node\n",
    "Node can do simple logic such as AND operation, OR operation.\n",
    "Let's practice with Tensorflow2."
   ]
  },
  {
   "cell_type": "code",
   "execution_count": 1,
   "metadata": {},
   "outputs": [],
   "source": [
    "from __future__ import absolute_import, division, print_function, unicode_literals\n",
    "\n",
    "try:\n",
    "  %tensorflow_version 2.x\n",
    "except Exception:\n",
    "  pass"
   ]
  },
  {
   "cell_type": "code",
   "execution_count": 2,
   "metadata": {},
   "outputs": [],
   "source": [
    "import tensorflow as tf\n",
    "import numpy as np\n",
    "\n",
    "# random seed for always same result from TF2\n",
    "tf.random.set_seed(1)\n",
    "np.random.seed(1)"
   ]
  },
  {
   "cell_type": "code",
   "execution_count": 7,
   "metadata": {},
   "outputs": [],
   "source": [
    "class Node:\n",
    "    def __init__(self):\n",
    "        self.w = tf.Variable(tf.random.normal([2, 1]))\n",
    "        self.b = tf.Variable(tf.random.normal([1, 1]))\n",
    "        \n",
    "    def __call__(self, x):\n",
    "        return self.preds(x)\n",
    "    \n",
    "    def preds(self,x):\n",
    "        # forward propagation\n",
    "        out = tf.matmul(x,self.w)\n",
    "        out = tf.add(out, self.b)\n",
    "        out = tf.nn.sigmoid(out)\n",
    "        return out\n",
    "    \n",
    "    def loss(self,y_pred, y):\n",
    "        return tf.reduce_mean(tf.square(y_pred - y))\n",
    "   \n",
    "    def train(self, inputs, outputs, learning_rate):\n",
    "        epochs = range(10000)\n",
    "        for i, epoch in enumerate(epochs):\n",
    "            with tf.GradientTape() as t:\n",
    "                current_loss = self.loss(self.preds(inputs), outputs)\n",
    "                if i % 1000 == 0:\n",
    "                    print(str(i) + \" epoch, loss: \"+str(current_loss.numpy()))\n",
    "                # back propagation\n",
    "                dW, db = t.gradient(current_loss, [self.w, self.b])\n",
    "                self.w.assign_sub(learning_rate * dW)\n",
    "                self.b.assign_sub(learning_rate * db)"
   ]
  },
  {
   "cell_type": "code",
   "execution_count": 8,
   "metadata": {},
   "outputs": [
    {
     "name": "stdout",
     "output_type": "stream",
     "text": [
      "0 epoch, loss: 0.14193062\n",
      "1000 epoch, loss: 0.12047812\n",
      "2000 epoch, loss: 0.10478282\n",
      "3000 epoch, loss: 0.09277938\n",
      "4000 epoch, loss: 0.08325236\n",
      "5000 epoch, loss: 0.075465575\n",
      "6000 epoch, loss: 0.06895569\n",
      "7000 epoch, loss: 0.06341742\n",
      "8000 epoch, loss: 0.05864069\n",
      "9000 epoch, loss: 0.054475207\n"
     ]
    }
   ],
   "source": [
    "# AND operation\n",
    "inputs = tf.constant([[0.0,0.0], [0.0,1.0], [1.0,0.0], [1.0,1.0]])\n",
    "outputs = tf.constant([[0.0], [0.0], [0.0], [1.0]])\n",
    "\n",
    "node = Node()\n",
    "# train\n",
    "node.train(inputs, outputs, 0.01)\n",
    "# test\n",
    "assert node([[0.0,0.0]]).numpy()[0][0] < 0.5\n",
    "assert node([[0.0,1.0]]).numpy()[0][0] < 0.5\n",
    "assert node([[1.0,0.0]]).numpy()[0][0] < 0.5\n",
    "assert node([[1.0,1.0]]).numpy()[0][0] >= 0.5"
   ]
  },
  {
   "cell_type": "code",
   "execution_count": 9,
   "metadata": {},
   "outputs": [
    {
     "name": "stdout",
     "output_type": "stream",
     "text": [
      "0 epoch, loss: 0.2860349\n",
      "1000 epoch, loss: 0.11865921\n",
      "2000 epoch, loss: 0.09779619\n",
      "3000 epoch, loss: 0.08329055\n",
      "4000 epoch, loss: 0.07180754\n",
      "5000 epoch, loss: 0.062597096\n",
      "6000 epoch, loss: 0.055128783\n",
      "7000 epoch, loss: 0.049000803\n",
      "8000 epoch, loss: 0.04391424\n",
      "9000 epoch, loss: 0.039646696\n"
     ]
    }
   ],
   "source": [
    "# OR operation\n",
    "inputs = tf.constant([[0.0,0.0], [0.0,1.0], [1.0,0.0], [1.0,1.0]])\n",
    "outputs = tf.constant([[0.0], [1.0], [1.0], [1.0]])\n",
    "\n",
    "node = Node()\n",
    "# train\n",
    "node.train(inputs, outputs, 0.01)\n",
    "# test\n",
    "assert node([[0.0,0.0]]).numpy()[0][0] < 0.5\n",
    "assert node([[0.0,1.0]]).numpy()[0][0] >= 0.5\n",
    "assert node([[1.0,0.0]]).numpy()[0][0] >= 0.5\n",
    "assert node([[1.0,1.0]]).numpy()[0][0] >= 0.5"
   ]
  },
  {
   "cell_type": "code",
   "execution_count": 13,
   "metadata": {},
   "outputs": [
    {
     "name": "stdout",
     "output_type": "stream",
     "text": [
      "Node Weights:  [[2.461971 ]\n",
      " [2.4734807]]\n"
     ]
    }
   ],
   "source": [
    "print(\"Node Weights: \",node.w.numpy())"
   ]
  },
  {
   "cell_type": "code",
   "execution_count": 14,
   "metadata": {},
   "outputs": [
    {
     "name": "stdout",
     "output_type": "stream",
     "text": [
      "Node Bias:  [[-0.8695577]]\n"
     ]
    }
   ],
   "source": [
    "print(\"Node Bias: \",node.b.numpy())"
   ]
  },
  {
   "cell_type": "code",
   "execution_count": null,
   "metadata": {},
   "outputs": [],
   "source": []
  }
 ],
 "metadata": {
  "kernelspec": {
   "display_name": "Python 3",
   "language": "python",
   "name": "python3"
  },
  "language_info": {
   "codemirror_mode": {
    "name": "ipython",
    "version": 3
   },
   "file_extension": ".py",
   "mimetype": "text/x-python",
   "name": "python",
   "nbconvert_exporter": "python",
   "pygments_lexer": "ipython3",
   "version": "3.7.5"
  }
 },
 "nbformat": 4,
 "nbformat_minor": 2
}
