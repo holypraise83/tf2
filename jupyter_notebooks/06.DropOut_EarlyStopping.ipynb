{
 "cells": [
  {
   "cell_type": "markdown",
   "metadata": {},
   "source": [
    "<a href=\"https://colab.research.google.com/github/minsuk-heo/tf2/blob/master/jupyter_notebooks/06.DropOut_EarlyStopping.ipynb\" target=\"_parent\"><img src=\"https://colab.research.google.com/assets/colab-badge.svg\" alt=\"Open In Colab\"/></a>"
   ]
  },
  {
   "cell_type": "code",
   "execution_count": 1,
   "metadata": {},
   "outputs": [],
   "source": [
    "from __future__ import absolute_import, division, print_function, unicode_literals\n",
    "\n",
    "try:\n",
    "  %tensorflow_version 2.x\n",
    "except Exception:\n",
    "  pass\n",
    "\n",
    "import tensorflow as tf\n",
    "tf.random.set_seed(1)"
   ]
  },
  {
   "cell_type": "code",
   "execution_count": 2,
   "metadata": {},
   "outputs": [],
   "source": [
    "import tensorflow as tf\n",
    "from tensorflow.keras.models import Sequential\n",
    "from tensorflow.keras.layers import Flatten\n",
    "from tensorflow.keras.layers import Dense\n",
    "from tensorflow.keras.layers import Activation\n",
    "from tensorflow.keras.layers import Dropout\n",
    "from tensorflow.keras.callbacks import EarlyStopping, ModelCheckpoint"
   ]
  },
  {
   "cell_type": "markdown",
   "metadata": {},
   "source": [
    "# Get MNIST Data"
   ]
  },
  {
   "cell_type": "code",
   "execution_count": 3,
   "metadata": {},
   "outputs": [],
   "source": [
    "(x_train, y_train), (x_test, y_test) = tf.keras.datasets.mnist.load_data()\n",
    "x_train = x_train.astype('float32')\n",
    "x_test = x_test.astype('float32')\n",
    "\n",
    "gray_scale = 255\n",
    "x_train /= gray_scale\n",
    "x_test /= gray_scale"
   ]
  },
  {
   "cell_type": "markdown",
   "metadata": {},
   "source": [
    "# MLP Model for classifiation"
   ]
  },
  {
   "cell_type": "code",
   "execution_count": 4,
   "metadata": {},
   "outputs": [],
   "source": [
    "model = Sequential([\n",
    "    Flatten(input_shape=(28, 28)),    # reshape 28 row * 28 column data to 28*28 rows\n",
    "    Dense(256, activation='sigmoid'), # dense layer 1\n",
    "    Dropout(0.2), # DropOut 20% on dense layer 1\n",
    "    Dense(128, activation='sigmoid'), # dense layer 2\n",
    "    Dropout(0.1), # DropOut 10% on dense layer 2\n",
    "    Dense(10, activation='softmax'),  # dense layer 3\n",
    "])"
   ]
  },
  {
   "cell_type": "code",
   "execution_count": 5,
   "metadata": {},
   "outputs": [],
   "source": [
    "model.compile(optimizer='adam',\n",
    "              loss='sparse_categorical_crossentropy',\n",
    "              metrics=['accuracy'])"
   ]
  },
  {
   "cell_type": "markdown",
   "metadata": {},
   "source": [
    "# Train"
   ]
  },
  {
   "cell_type": "code",
   "execution_count": 6,
   "metadata": {},
   "outputs": [
    {
     "name": "stdout",
     "output_type": "stream",
     "text": [
      "Train on 48000 samples, validate on 12000 samples\n",
      "Epoch 1/100\n",
      "48000/48000 [==============================] - 3s 69us/sample - loss: 2.0977 - accuracy: 0.3212 - val_loss: 1.7018 - val_accuracy: 0.6856\n",
      "Epoch 2/100\n",
      "48000/48000 [==============================] - 2s 47us/sample - loss: 1.4122 - accuracy: 0.6616 - val_loss: 1.0231 - val_accuracy: 0.7861\n",
      "Epoch 3/100\n",
      "48000/48000 [==============================] - 2s 48us/sample - loss: 0.9047 - accuracy: 0.7790 - val_loss: 0.6669 - val_accuracy: 0.8589\n",
      "Epoch 4/100\n",
      "48000/48000 [==============================] - 2s 48us/sample - loss: 0.6484 - accuracy: 0.8389 - val_loss: 0.4924 - val_accuracy: 0.8855\n",
      "Epoch 5/100\n",
      "48000/48000 [==============================] - 2s 48us/sample - loss: 0.5098 - accuracy: 0.8688 - val_loss: 0.4010 - val_accuracy: 0.9010\n",
      "Epoch 6/100\n",
      "48000/48000 [==============================] - 2s 48us/sample - loss: 0.4375 - accuracy: 0.8848 - val_loss: 0.3511 - val_accuracy: 0.9072\n",
      "Epoch 7/100\n",
      "48000/48000 [==============================] - 2s 48us/sample - loss: 0.3898 - accuracy: 0.8927 - val_loss: 0.3173 - val_accuracy: 0.9146\n",
      "Epoch 8/100\n",
      "48000/48000 [==============================] - 2s 48us/sample - loss: 0.3580 - accuracy: 0.8998 - val_loss: 0.2946 - val_accuracy: 0.9172\n",
      "Epoch 9/100\n",
      "48000/48000 [==============================] - 2s 49us/sample - loss: 0.3346 - accuracy: 0.9055 - val_loss: 0.2767 - val_accuracy: 0.9230\n",
      "Epoch 10/100\n",
      "48000/48000 [==============================] - 2s 48us/sample - loss: 0.3156 - accuracy: 0.9089 - val_loss: 0.2625 - val_accuracy: 0.9269\n",
      "Epoch 11/100\n",
      "48000/48000 [==============================] - 2s 50us/sample - loss: 0.2996 - accuracy: 0.9136 - val_loss: 0.2510 - val_accuracy: 0.9285\n",
      "Epoch 12/100\n",
      "48000/48000 [==============================] - 2s 50us/sample - loss: 0.2879 - accuracy: 0.9167 - val_loss: 0.2409 - val_accuracy: 0.9307\n",
      "Epoch 13/100\n",
      "48000/48000 [==============================] - 2s 51us/sample - loss: 0.2745 - accuracy: 0.9201 - val_loss: 0.2301 - val_accuracy: 0.9344\n",
      "Epoch 14/100\n",
      "48000/48000 [==============================] - 2s 51us/sample - loss: 0.2615 - accuracy: 0.9239 - val_loss: 0.2224 - val_accuracy: 0.9363\n",
      "Epoch 15/100\n",
      "48000/48000 [==============================] - 2s 52us/sample - loss: 0.2527 - accuracy: 0.9261 - val_loss: 0.2148 - val_accuracy: 0.9383\n",
      "Epoch 16/100\n",
      "48000/48000 [==============================] - 3s 53us/sample - loss: 0.2427 - accuracy: 0.9288 - val_loss: 0.2083 - val_accuracy: 0.9403\n",
      "Epoch 17/100\n",
      "48000/48000 [==============================] - 3s 53us/sample - loss: 0.2347 - accuracy: 0.9308 - val_loss: 0.2016 - val_accuracy: 0.9429\n",
      "Epoch 18/100\n",
      "48000/48000 [==============================] - 3s 54us/sample - loss: 0.2259 - accuracy: 0.9340 - val_loss: 0.1957 - val_accuracy: 0.9448\n",
      "Epoch 19/100\n",
      "48000/48000 [==============================] - 3s 54us/sample - loss: 0.2194 - accuracy: 0.9350 - val_loss: 0.1898 - val_accuracy: 0.9462\n",
      "Epoch 20/100\n",
      "48000/48000 [==============================] - 3s 54us/sample - loss: 0.2124 - accuracy: 0.9379 - val_loss: 0.1845 - val_accuracy: 0.9473\n",
      "Epoch 21/100\n",
      "48000/48000 [==============================] - 3s 55us/sample - loss: 0.2040 - accuracy: 0.9406 - val_loss: 0.1795 - val_accuracy: 0.9492\n",
      "Epoch 22/100\n",
      "48000/48000 [==============================] - 3s 55us/sample - loss: 0.1978 - accuracy: 0.9415 - val_loss: 0.1750 - val_accuracy: 0.9504\n",
      "Epoch 23/100\n",
      "48000/48000 [==============================] - 3s 55us/sample - loss: 0.1913 - accuracy: 0.9428 - val_loss: 0.1709 - val_accuracy: 0.9517\n",
      "Epoch 24/100\n",
      "48000/48000 [==============================] - 3s 57us/sample - loss: 0.1887 - accuracy: 0.9440 - val_loss: 0.1664 - val_accuracy: 0.9523\n",
      "Epoch 25/100\n",
      "48000/48000 [==============================] - 3s 55us/sample - loss: 0.1808 - accuracy: 0.9466 - val_loss: 0.1632 - val_accuracy: 0.9537\n",
      "Epoch 26/100\n",
      "48000/48000 [==============================] - 3s 56us/sample - loss: 0.1757 - accuracy: 0.9486 - val_loss: 0.1585 - val_accuracy: 0.9545\n",
      "Epoch 27/100\n",
      "48000/48000 [==============================] - 3s 56us/sample - loss: 0.1702 - accuracy: 0.9499 - val_loss: 0.1546 - val_accuracy: 0.9555\n",
      "Epoch 28/100\n",
      "48000/48000 [==============================] - 3s 57us/sample - loss: 0.1644 - accuracy: 0.9515 - val_loss: 0.1522 - val_accuracy: 0.9553\n",
      "Epoch 29/100\n",
      "48000/48000 [==============================] - 3s 57us/sample - loss: 0.1599 - accuracy: 0.9532 - val_loss: 0.1483 - val_accuracy: 0.9563\n",
      "Epoch 30/100\n",
      "48000/48000 [==============================] - 3s 57us/sample - loss: 0.1558 - accuracy: 0.9544 - val_loss: 0.1456 - val_accuracy: 0.9582\n",
      "Epoch 31/100\n",
      "48000/48000 [==============================] - 3s 57us/sample - loss: 0.1526 - accuracy: 0.9546 - val_loss: 0.1411 - val_accuracy: 0.9592\n",
      "Epoch 32/100\n",
      "48000/48000 [==============================] - 3s 58us/sample - loss: 0.1466 - accuracy: 0.9569 - val_loss: 0.1398 - val_accuracy: 0.9594\n",
      "Epoch 33/100\n",
      "48000/48000 [==============================] - 3s 62us/sample - loss: 0.1438 - accuracy: 0.9574 - val_loss: 0.1361 - val_accuracy: 0.9603\n",
      "Epoch 34/100\n",
      "48000/48000 [==============================] - 3s 57us/sample - loss: 0.1401 - accuracy: 0.9582 - val_loss: 0.1348 - val_accuracy: 0.9603\n",
      "Epoch 35/100\n",
      "48000/48000 [==============================] - 3s 57us/sample - loss: 0.1356 - accuracy: 0.9602 - val_loss: 0.1319 - val_accuracy: 0.9613\n",
      "Epoch 36/100\n",
      "48000/48000 [==============================] - 3s 58us/sample - loss: 0.1331 - accuracy: 0.9604 - val_loss: 0.1280 - val_accuracy: 0.9621\n",
      "Epoch 37/100\n",
      "48000/48000 [==============================] - 3s 58us/sample - loss: 0.1280 - accuracy: 0.9615 - val_loss: 0.1264 - val_accuracy: 0.9631\n",
      "Epoch 38/100\n",
      "48000/48000 [==============================] - 3s 57us/sample - loss: 0.1264 - accuracy: 0.9622 - val_loss: 0.1241 - val_accuracy: 0.9638\n",
      "Epoch 39/100\n",
      "48000/48000 [==============================] - 3s 59us/sample - loss: 0.1217 - accuracy: 0.9646 - val_loss: 0.1218 - val_accuracy: 0.9633\n",
      "Epoch 40/100\n",
      "48000/48000 [==============================] - 3s 59us/sample - loss: 0.1201 - accuracy: 0.9639 - val_loss: 0.1200 - val_accuracy: 0.9649\n",
      "Epoch 41/100\n",
      "48000/48000 [==============================] - 3s 58us/sample - loss: 0.1139 - accuracy: 0.9662 - val_loss: 0.1180 - val_accuracy: 0.9647\n",
      "Epoch 42/100\n",
      "48000/48000 [==============================] - 3s 58us/sample - loss: 0.1129 - accuracy: 0.9666 - val_loss: 0.1166 - val_accuracy: 0.9657\n",
      "Epoch 43/100\n",
      "48000/48000 [==============================] - 3s 58us/sample - loss: 0.1101 - accuracy: 0.9673 - val_loss: 0.1140 - val_accuracy: 0.9662\n",
      "Epoch 44/100\n",
      "48000/48000 [==============================] - 3s 58us/sample - loss: 0.1079 - accuracy: 0.9674 - val_loss: 0.1128 - val_accuracy: 0.9664\n",
      "Epoch 45/100\n",
      "48000/48000 [==============================] - 3s 58us/sample - loss: 0.1059 - accuracy: 0.9682 - val_loss: 0.1114 - val_accuracy: 0.9668\n",
      "Epoch 46/100\n",
      "48000/48000 [==============================] - 3s 58us/sample - loss: 0.1024 - accuracy: 0.9699 - val_loss: 0.1098 - val_accuracy: 0.9679\n",
      "Epoch 47/100\n",
      "48000/48000 [==============================] - 3s 60us/sample - loss: 0.1007 - accuracy: 0.9699 - val_loss: 0.1078 - val_accuracy: 0.9678\n",
      "Epoch 48/100\n",
      "48000/48000 [==============================] - 3s 58us/sample - loss: 0.0961 - accuracy: 0.9719 - val_loss: 0.1070 - val_accuracy: 0.9685\n",
      "Epoch 49/100\n",
      "48000/48000 [==============================] - 3s 59us/sample - loss: 0.0952 - accuracy: 0.9720 - val_loss: 0.1061 - val_accuracy: 0.9684\n",
      "Epoch 50/100\n",
      "48000/48000 [==============================] - 3s 59us/sample - loss: 0.0938 - accuracy: 0.9725 - val_loss: 0.1034 - val_accuracy: 0.9700\n",
      "Epoch 51/100\n",
      "48000/48000 [==============================] - 3s 59us/sample - loss: 0.0918 - accuracy: 0.9728 - val_loss: 0.1030 - val_accuracy: 0.9695\n",
      "Epoch 52/100\n",
      "48000/48000 [==============================] - 3s 59us/sample - loss: 0.0885 - accuracy: 0.9739 - val_loss: 0.1020 - val_accuracy: 0.9698\n",
      "Epoch 53/100\n",
      "48000/48000 [==============================] - 3s 59us/sample - loss: 0.0864 - accuracy: 0.9740 - val_loss: 0.1006 - val_accuracy: 0.9705\n",
      "Epoch 54/100\n",
      "48000/48000 [==============================] - 3s 59us/sample - loss: 0.0840 - accuracy: 0.9752 - val_loss: 0.0996 - val_accuracy: 0.9710\n"
     ]
    },
    {
     "name": "stdout",
     "output_type": "stream",
     "text": [
      "Epoch 55/100\n",
      "48000/48000 [==============================] - 3s 57us/sample - loss: 0.0820 - accuracy: 0.9760 - val_loss: 0.0977 - val_accuracy: 0.9708\n",
      "Epoch 56/100\n",
      "48000/48000 [==============================] - 3s 57us/sample - loss: 0.0803 - accuracy: 0.9761 - val_loss: 0.0967 - val_accuracy: 0.9709\n",
      "Epoch 57/100\n",
      "48000/48000 [==============================] - 3s 56us/sample - loss: 0.0788 - accuracy: 0.9768 - val_loss: 0.0968 - val_accuracy: 0.9708\n"
     ]
    },
    {
     "data": {
      "text/plain": [
       "<tensorflow.python.keras.callbacks.History at 0x6420b14d0>"
      ]
     },
     "execution_count": 6,
     "metadata": {},
     "output_type": "execute_result"
    }
   ],
   "source": [
    "callbacks = [EarlyStopping(monitor='val_accuracy', patience=3)] # Early Stopping\n",
    "model.fit(x_train, y_train, epochs=100, \n",
    "          batch_size=2000, validation_split = 0.2, callbacks=callbacks)"
   ]
  },
  {
   "cell_type": "markdown",
   "metadata": {},
   "source": [
    "# Test"
   ]
  },
  {
   "cell_type": "code",
   "execution_count": 9,
   "metadata": {},
   "outputs": [],
   "source": [
    "results = model.evaluate(x_test,  y_test, verbose = 0)"
   ]
  },
  {
   "cell_type": "code",
   "execution_count": 10,
   "metadata": {},
   "outputs": [
    {
     "name": "stdout",
     "output_type": "stream",
     "text": [
      "test loss, test acc: [0.09067475673723965, 0.9715]\n"
     ]
    }
   ],
   "source": [
    "print('test loss, test acc:', results)"
   ]
  },
  {
   "cell_type": "code",
   "execution_count": null,
   "metadata": {},
   "outputs": [],
   "source": []
  }
 ],
 "metadata": {
  "kernelspec": {
   "display_name": "Python 3",
   "language": "python",
   "name": "python3"
  },
  "language_info": {
   "codemirror_mode": {
    "name": "ipython",
    "version": 3
   },
   "file_extension": ".py",
   "mimetype": "text/x-python",
   "name": "python",
   "nbconvert_exporter": "python",
   "pygments_lexer": "ipython3",
   "version": "3.7.5"
  }
 },
 "nbformat": 4,
 "nbformat_minor": 2
}
